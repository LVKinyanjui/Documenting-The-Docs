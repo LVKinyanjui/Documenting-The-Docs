{
 "cells": [
  {
   "cell_type": "code",
   "execution_count": 1,
   "metadata": {},
   "outputs": [],
   "source": [
    "import time\n",
    "import random\n",
    "import tqdm\n",
    "import requests\n",
    "from bs4 import BeautifulSoup"
   ]
  },
  {
   "cell_type": "code",
   "execution_count": 2,
   "metadata": {},
   "outputs": [],
   "source": [
    "from async_requests import fetch_all_urls"
   ]
  },
  {
   "cell_type": "code",
   "execution_count": 3,
   "metadata": {},
   "outputs": [],
   "source": [
    "base_url = \"https://kubernetes.io\""
   ]
  },
  {
   "cell_type": "markdown",
   "metadata": {},
   "source": [
    "## Home Page\n",
    "We first issue a `GET` request to the home page which will provide us with an initial starting point to navigate to subsequent pages."
   ]
  },
  {
   "cell_type": "code",
   "execution_count": 4,
   "metadata": {},
   "outputs": [],
   "source": [
    "res = requests.get(f\"{base_url}/docs/home/\")\n",
    "if res.status_code != 200:\n",
    "    print(\"Error getting page content\")"
   ]
  },
  {
   "cell_type": "code",
   "execution_count": 5,
   "metadata": {
    "scrolled": true
   },
   "outputs": [],
   "source": [
    "soup = BeautifulSoup(res.content, \"html.parser\")\n",
    "# soup.text"
   ]
  },
  {
   "cell_type": "markdown",
   "metadata": {},
   "source": [
    "## Extract Page URLs\n",
    "All the pages are listed in a sidebar. We simply get it as an unordered list `<ul>`, then find all the hyperlink elements `<a>` that match a particular class. We then issue a `GET` request for each."
   ]
  },
  {
   "cell_type": "code",
   "execution_count": 6,
   "metadata": {},
   "outputs": [],
   "source": [
    "side_bar = soup.find(\"ul\", class_=\"ul-1\")"
   ]
  },
  {
   "cell_type": "code",
   "execution_count": 7,
   "metadata": {},
   "outputs": [],
   "source": [
    "first_node = side_bar.findChild(\"a\")\n",
    "all_link_nodes = first_node.findAllNext(\"a\", \n",
    "                                        class_=\"align-left pl-0 td-sidebar-link td-sidebar-link__page\")"
   ]
  },
  {
   "cell_type": "code",
   "execution_count": 24,
   "metadata": {
    "scrolled": true
   },
   "outputs": [],
   "source": [
    "full_urls = [base_url + link.attrs[\"href\"] for link in all_link_nodes]\n",
    "\n",
    "# ASYNCHRONOUS APPROACH: Considerably faster\n",
    "results = await fetch_all_urls(full_urls, max_concurrent=50)"
   ]
  },
  {
   "cell_type": "code",
   "execution_count": 27,
   "metadata": {
    "scrolled": true
   },
   "outputs": [],
   "source": [
    "pages_content = (BeautifulSoup(result.response, \"html.parser\").text for result in results)"
   ]
  },
  {
   "cell_type": "code",
   "execution_count": 18,
   "metadata": {
    "scrolled": true
   },
   "outputs": [],
   "source": [
    "# # Synchronous Approach: GLacial\n",
    "# pages_content = []\n",
    "# failure_logs = []\n",
    "\n",
    "# for link in tqdm.tqdm(all_link_nodes):\n",
    "#     full_url = base_url + link.attrs[\"href\"]\n",
    "#     res = requests.get(full_url)\n",
    "\n",
    "#     if res.status_code != 200:\n",
    "#         status_text = f\"Error getting content for page: {full_url}\" \n",
    "#         print(status_text)\n",
    "#         failure_logs.append(status_text)\n",
    "\n",
    "#     soup = BeautifulSoup(res.content, \"html.parser\")\n",
    "#     pages_content.append(soup.text)\n",
    "\n",
    "#     time.sleep(random.uniform(0.5, 1))"
   ]
  },
  {
   "cell_type": "code",
   "execution_count": 28,
   "metadata": {},
   "outputs": [],
   "source": [
    "with open(\"data/kubernetes_docs.txt\", \"w\", encoding=\"utf-8\") as fp:\n",
    "    for page in pages_content:\n",
    "        fp.write(page)\n",
    "        fp.write(\"\\n\\n\\n\")\n",
    "\n",
    "# with open(\"data/error_log.txt\", \"w\") as fp:\n",
    "#     fp.writelines(failure_logs)"
   ]
  },
  {
   "cell_type": "code",
   "execution_count": null,
   "metadata": {},
   "outputs": [],
   "source": []
  }
 ],
 "metadata": {
  "kernelspec": {
   "display_name": "Python 3 (ipykernel)",
   "language": "python",
   "name": "python3"
  },
  "language_info": {
   "codemirror_mode": {
    "name": "ipython",
    "version": 3
   },
   "file_extension": ".py",
   "mimetype": "text/x-python",
   "name": "python",
   "nbconvert_exporter": "python",
   "pygments_lexer": "ipython3",
   "version": "3.10.12"
  }
 },
 "nbformat": 4,
 "nbformat_minor": 4
}
